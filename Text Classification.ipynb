{
 "cells": [
  {
   "cell_type": "markdown",
   "metadata": {},
   "source": [
    "## Who Said It - Taylor Swift or William Shakespeare? \n",
    "A fun challenge for Taylor Swift fans is to see if they can idenfity whether a line of text is a Taylor Swift lyric or a line from Shakespeare. It is suprisingly difficult, so I want to see if this task is hard for AI as well. \n",
    "The following notebook implements a basic machine learning project to determine if the words were written by Taylor Swift or William Shakespeare. \n",
    "\n",
    "Time to find out if the AI is a Swiftie!"
   ]
  },
  {
   "cell_type": "code",
   "execution_count": 1,
   "metadata": {},
   "outputs": [],
   "source": [
    "import pandas as pd\n",
    "import numpy as np\n",
    "import spacy\n",
    "from string import punctuation\n",
    "\n",
    "from sklearn.svm import LinearSVC\n",
    "from sklearn.feature_extraction.text import TfidfVectorizer\n",
    "from sklearn.naive_bayes import MultinomialNB\n",
    "from sklearn.pipeline import Pipeline\n",
    "from sklearn.metrics import classification_report\n",
    "from sklearn.model_selection import GridSearchCV, train_test_split\n",
    "\n",
    "nlp = spacy.load('en_core_web_sm')"
   ]
  },
  {
   "cell_type": "markdown",
   "metadata": {},
   "source": [
    "### Pre-Process the Data\n",
    "\n",
    "[Taylor Lyrics Dataset - Full Corpus](https://github.com/sagesolar/Corpus-of-Taylor-Swift/blob/main/lyrics/flat-song-lyrics.json)\n",
    "\n",
    "[Shakespeare Lines Dataset - All Plays](https://www.kaggle.com/datasets/kingburrito666/shakespeare-plays)\n",
    "\n",
    "Taylor will be class 1 and Shakespeare will be class 0 since the models prefer numerical targets."
   ]
  },
  {
   "cell_type": "code",
   "execution_count": 2,
   "metadata": {},
   "outputs": [],
   "source": [
    "stopwords = nlp.Defaults.stop_words\n",
    "# define a quick preprocessing function\n",
    "# remove any tokens that are stopwords, punctuation, digits, or under 3 char.\n",
    "def spacy_preprocessing(text):\n",
    "    text = text.lower()\n",
    "\n",
    "    tokens = [token.text for token in nlp(text)]\n",
    "    tokens = [t for t in tokens if\n",
    "              t not in stopwords and \n",
    "              t not in punctuation and \n",
    "              len(t) > 3]\n",
    "    tokens = [t for t in tokens if not t.isdigit()]\n",
    "\n",
    "    return \" \".join(tokens)"
   ]
  },
  {
   "cell_type": "code",
   "execution_count": 3,
   "metadata": {},
   "outputs": [],
   "source": [
    "# read in Taylor lyrics\n",
    "tay_df = pd.read_json('flat-song-lyrics.json', orient = 'index')\n",
    "tay_df = tay_df.reset_index()\n",
    "\n",
    "# rename the columns for clarity\n",
    "tay_df.columns = ['key', 'text']\n",
    "# class label\n",
    "tay_df['source'] = 1\n",
    "\n",
    "# drop column, remove duplicate lyrics\n",
    "tay_df = tay_df.drop('key', axis=1)\n",
    "tay_df = tay_df.drop_duplicates(subset='text')\n",
    "\n",
    "# preprocess lyrics\n",
    "tay_df['clean_text'] = tay_df['text'].apply(spacy_preprocessing)\n",
    "# remove records with 2 or less words\n",
    "tay_df = tay_df[tay_df['clean_text'].str.split().str.len() > 2]"
   ]
  },
  {
   "cell_type": "code",
   "execution_count": 4,
   "metadata": {},
   "outputs": [],
   "source": [
    "# read in shakespeare lines\n",
    "shakespeare_df = pd.read_csv('Shakespeare_data.csv')\n",
    "\n",
    "# fitler records for more than 40 char to filter out lines like ACT and SCENE\n",
    "# not a totally perfect way but should suffice\n",
    "shakespeare_df['text_len'] = shakespeare_df['PlayerLine'].str.len()\n",
    "shakespeare_df = shakespeare_df[shakespeare_df['text_len'] > 40]\n",
    "\n",
    "# randomly sample about 5k records... this dataset is huge and we don't want imbalanced classes \n",
    "# or to waste time pre-processing records we wont use\n",
    "sampled_df = shakespeare_df.sample(n=5000, random_state = 42)\n",
    "# class label\n",
    "sampled_df['source'] = 0\n",
    "# rename columns \n",
    "sampled_df.rename(columns={'PlayerLine': 'text'}, inplace=True)\n",
    "sampled_df = sampled_df[['text', 'source']]\n",
    "\n",
    "# preprocess lyrics\n",
    "sampled_df['clean_text'] = sampled_df['text'].apply(spacy_preprocessing)\n",
    "# remove records with 2 or less words\n",
    "sampled_df = sampled_df[sampled_df['clean_text'].str.split().str.len() > 2]"
   ]
  },
  {
   "cell_type": "code",
   "execution_count": 5,
   "metadata": {},
   "outputs": [
    {
     "data": {
      "text/plain": [
       "source\n",
       "1    3824\n",
       "0    3824\n",
       "Name: count, dtype: int64"
      ]
     },
     "execution_count": 5,
     "metadata": {},
     "output_type": "execute_result"
    }
   ],
   "source": [
    "# handle potential imbalance \n",
    "min_class_size = min(len(tay_df), len(sampled_df))\n",
    "\n",
    "# resample both datasets to have the same number of records as the smaller class\n",
    "tay_df_balanced = tay_df.sample(n=min_class_size, random_state=42)\n",
    "shakespeare_df_balanced = sampled_df.sample(n=min_class_size, random_state=42)\n",
    "\n",
    "# concat datasets\n",
    "df = pd.concat([tay_df_balanced, shakespeare_df_balanced])\n",
    "df['source'].value_counts()"
   ]
  },
  {
   "cell_type": "markdown",
   "metadata": {},
   "source": [
    "### Training Some Classifiers\n",
    "#### Split Data"
   ]
  },
  {
   "cell_type": "code",
   "execution_count": 6,
   "metadata": {},
   "outputs": [
    {
     "data": {
      "text/plain": [
       "(array([0, 1]), array([3059, 3059]))"
      ]
     },
     "execution_count": 6,
     "metadata": {},
     "output_type": "execute_result"
    }
   ],
   "source": [
    "# shuffle and 80-20 train-test split\n",
    "# stratified train-test split to ensure class balance\n",
    "dataset = df[['clean_text', 'source']].sample(frac=1, random_state=42)\n",
    "\n",
    "X = dataset['clean_text'].to_list()\n",
    "y = dataset['source'].to_list()\n",
    "\n",
    "X_train, X_test, y_train, y_test = train_test_split(X, y, test_size=0.2, stratify=y, random_state=42)\n",
    "\n",
    "# back to numpy arrays\n",
    "y_train = np.array(y_train)\n",
    "y_test = np.array(y_test)\n",
    "\n",
    "# sanity check \n",
    "np.unique(y_train, return_counts=True)"
   ]
  },
  {
   "cell_type": "markdown",
   "metadata": {},
   "source": [
    "#### Multinomial Naive Bayes"
   ]
  },
  {
   "cell_type": "code",
   "execution_count": 7,
   "metadata": {},
   "outputs": [
    {
     "name": "stdout",
     "output_type": "stream",
     "text": [
      "Best parameters found:  {'classifier__alpha': 0.01, 'classifier__fit_prior': True, 'vectorizer__ngram_range': (1, 2), 'vectorizer__sublinear_tf': True, 'vectorizer__use_idf': False}\n",
      "Best cross-validation score:  0.8738351614375544\n",
      "              precision    recall  f1-score   support\n",
      "\n",
      "           0       0.90      0.85      0.88       765\n",
      "           1       0.86      0.90      0.88       765\n",
      "\n",
      "    accuracy                           0.88      1530\n",
      "   macro avg       0.88      0.88      0.88      1530\n",
      "weighted avg       0.88      0.88      0.88      1530\n",
      "\n"
     ]
    }
   ],
   "source": [
    "# we have to vectorize the data before grid searching training\n",
    "pipeline = Pipeline([\n",
    "    ('vectorizer', TfidfVectorizer()),\n",
    "    ('classifier', MultinomialNB())\n",
    "])\n",
    "\n",
    "\n",
    "param_grid = {\n",
    "    'classifier__alpha': [0.01, 0.1, 0.5, 1, 2, 5, 10],\n",
    "    'classifier__fit_prior': [True, False],\n",
    "    'vectorizer__use_idf': [True, False],\n",
    "    'vectorizer__ngram_range': [(1, 1), (1, 2)],  # unigrams and bigrams\n",
    "    'vectorizer__sublinear_tf': [True, False],   #  sublinear tf scaling\n",
    "}\n",
    "\n",
    "# grid search with cross-validation\n",
    "grid_search = GridSearchCV(pipeline, param_grid, cv=5, scoring='f1')\n",
    "grid_search.fit(X_train, y_train)\n",
    "\n",
    "# the best parameters and the best score\n",
    "print(\"Best parameters found: \", grid_search.best_params_)\n",
    "print(\"Best cross-validation score: \", grid_search.best_score_)\n",
    "\n",
    "# eval. on the test set\n",
    "best_model = grid_search.best_estimator_\n",
    "y_pred = best_model.predict(X_test)\n",
    "print(classification_report(y_test, y_pred))"
   ]
  },
  {
   "cell_type": "markdown",
   "metadata": {},
   "source": [
    "#### Support Vector Machine"
   ]
  },
  {
   "cell_type": "code",
   "execution_count": 8,
   "metadata": {},
   "outputs": [
    {
     "name": "stdout",
     "output_type": "stream",
     "text": [
      "Best parameters for Linear SVM:  {'classifier__C': 10, 'classifier__max_iter': 1000, 'vectorizer__min_df': 1, 'vectorizer__ngram_range': (1, 2), 'vectorizer__sublinear_tf': False, 'vectorizer__use_idf': True}\n",
      "Best cross-validation score (LinearSVM):  0.8595364111159437\n",
      "LinearSVC classification report:\n",
      "              precision    recall  f1-score   support\n",
      "\n",
      "           0       0.87      0.83      0.85       765\n",
      "           1       0.84      0.88      0.86       765\n",
      "\n",
      "    accuracy                           0.85      1530\n",
      "   macro avg       0.85      0.85      0.85      1530\n",
      "weighted avg       0.85      0.85      0.85      1530\n",
      "\n"
     ]
    }
   ],
   "source": [
    "# same steps as above, just for SVM\n",
    "pipeline = Pipeline([\n",
    "    ('vectorizer', TfidfVectorizer()),\n",
    "    ('classifier', LinearSVC()) \n",
    "])\n",
    "\n",
    "param_grid_svm = {\n",
    "    'classifier__C': [0.01, 0.1, 1, 10],  # Regularization parameter\n",
    "    'classifier__max_iter': [1000, 5000, 10000],  # iterations for convergence\n",
    "    'vectorizer__use_idf': [True, False],\n",
    "    'vectorizer__ngram_range': [(1, 1), (1, 2)],  # unigrams and bigrams\n",
    "    'vectorizer__min_df': [1, 5, 10],\n",
    "    'vectorizer__sublinear_tf': [True, False]\n",
    "}\n",
    "\n",
    "\n",
    "grid_search_svm = GridSearchCV(pipeline, param_grid_svm, cv=5, scoring='f1')\n",
    "grid_search_svm.fit(X_train, y_train)\n",
    "\n",
    "print(\"Best parameters for Linear SVM: \", grid_search_svm.best_params_)\n",
    "print(\"Best cross-validation score (LinearSVM): \", grid_search_svm.best_score_)\n",
    "\n",
    "\n",
    "best_model_svm = grid_search_svm.best_estimator_\n",
    "y_pred_svm = best_model_svm.predict(X_test)\n",
    "print(\"LinearSVC classification report:\")\n",
    "print(classification_report(y_test, y_pred_svm))\n"
   ]
  },
  {
   "cell_type": "markdown",
   "metadata": {},
   "source": [
    "### Results \n",
    "Turns out it's even somewhat difficult for AI to distinguish Taylor Swift lyrics versus Shakespeare lines, as an accuracy of 88% definitely leaves room for improvement! In both cases, the models show a marginally better performance in predicting Taylor Swift lyrics compared to Shakespeare lines.\n",
    "\n",
    "\n",
    "The accuracy of these models could be improved by trying a number of different things: \n",
    "* Other classifiers \n",
    "* Different sampling of the data\n",
    "* Additional pre-processing techniques, like lemmatization\n",
    "\n",
    "However, I'll leave it here for now to keep this notebook relatively short. "
   ]
  }
 ],
 "metadata": {
  "kernelspec": {
   "display_name": "Python 3",
   "language": "python",
   "name": "python3"
  },
  "language_info": {
   "codemirror_mode": {
    "name": "ipython",
    "version": 3
   },
   "file_extension": ".py",
   "mimetype": "text/x-python",
   "name": "python",
   "nbconvert_exporter": "python",
   "pygments_lexer": "ipython3",
   "version": "3.11.9"
  }
 },
 "nbformat": 4,
 "nbformat_minor": 2
}
